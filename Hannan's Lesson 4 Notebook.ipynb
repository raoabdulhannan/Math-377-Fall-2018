{
 "cells": [
  {
   "cell_type": "markdown",
   "metadata": {},
   "source": [
    "# Hannan's Lesson 4 Notebook"
   ]
  },
  {
   "cell_type": "markdown",
   "metadata": {},
   "source": [
    "1) Create 3 variables for name (first and last), age and hometown. Assign to these\n",
    "variables your own name, age and hometown. Now, recreate the following sentence\n",
    "using variable assignment and the ‘print’ command in Python:"
   ]
  },
  {
   "cell_type": "code",
   "execution_count": 2,
   "metadata": {},
   "outputs": [],
   "source": [
    "name = \"Rao Abdul Hannan\"\n",
    "age = 22\n",
    "hometown = \"Pakistan\""
   ]
  },
  {
   "cell_type": "code",
   "execution_count": 3,
   "metadata": {},
   "outputs": [
    {
     "name": "stdout",
     "output_type": "stream",
     "text": [
      "I am Rao Abdul Hannan I am 22 years old. I'm from Pakistan\n"
     ]
    }
   ],
   "source": [
    "print (\"I am %s I am %d years old. I'm from %s\" % (name, age, hometown))"
   ]
  },
  {
   "cell_type": "markdown",
   "metadata": {},
   "source": [
    "a) Now, use a string method to make your name lower case. Print the all lower case\n",
    "version of your name."
   ]
  },
  {
   "cell_type": "code",
   "execution_count": 4,
   "metadata": {},
   "outputs": [],
   "source": [
    "name = name.lower()"
   ]
  },
  {
   "cell_type": "code",
   "execution_count": 5,
   "metadata": {},
   "outputs": [
    {
     "name": "stdout",
     "output_type": "stream",
     "text": [
      "rao abdul hannan\n"
     ]
    }
   ],
   "source": [
    "print (\"%s\" % name)"
   ]
  },
  {
   "cell_type": "markdown",
   "metadata": {},
   "source": [
    "2) Using the ‘replace’ method, replace all “I am” with “he is” or “she is” and all “I’m” with\n",
    "“he’s” or “she’s”."
   ]
  },
  {
   "cell_type": "code",
   "execution_count": 6,
   "metadata": {},
   "outputs": [],
   "source": [
    "str = \"I am Rao Abdul Hannan. I am 22 years old. I'm from Pakistan\""
   ]
  },
  {
   "cell_type": "code",
   "execution_count": 7,
   "metadata": {},
   "outputs": [],
   "source": [
    "new_str = str.replace(\"I am\", \"He is\")"
   ]
  },
  {
   "cell_type": "code",
   "execution_count": 8,
   "metadata": {},
   "outputs": [],
   "source": [
    "new_str = new_str.replace(\"I'm\",\"He's\")"
   ]
  },
  {
   "cell_type": "code",
   "execution_count": 9,
   "metadata": {},
   "outputs": [
    {
     "name": "stdout",
     "output_type": "stream",
     "text": [
      "He is Rao Abdul Hannan. He is 22 years old. He's from Pakistan\n"
     ]
    }
   ],
   "source": [
    "print(\"%s\" % new_str)"
   ]
  },
  {
   "cell_type": "markdown",
   "metadata": {},
   "source": [
    "3) Return a boolean response indicating whether the length of your original sentence (in\n",
    "#1) is greater than your age plus 40."
   ]
  },
  {
   "cell_type": "code",
   "execution_count": 10,
   "metadata": {},
   "outputs": [
    {
     "name": "stdout",
     "output_type": "stream",
     "text": [
      "0\n"
     ]
    }
   ],
   "source": [
    "if len(str) > age+40:\n",
    "    print(\"1\")\n",
    "else:\n",
    "    print(\"0\")"
   ]
  }
 ],
 "metadata": {
  "kernelspec": {
   "display_name": "Python 3",
   "language": "python",
   "name": "python3"
  },
  "language_info": {
   "codemirror_mode": {
    "name": "ipython",
    "version": 3
   },
   "file_extension": ".py",
   "mimetype": "text/x-python",
   "name": "python",
   "nbconvert_exporter": "python",
   "pygments_lexer": "ipython3",
   "version": "3.6.5"
  }
 },
 "nbformat": 4,
 "nbformat_minor": 2
}
